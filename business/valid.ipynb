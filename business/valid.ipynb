{
 "cells": [
  {
   "cell_type": "code",
   "execution_count": 1,
   "id": "f29852b0",
   "metadata": {},
   "outputs": [],
   "source": [
    "import os, sys\n",
    "ROOT = \"/workspaces/projeto_pyspark\"  # ajuste se diferente\n",
    "if ROOT not in sys.path:\n",
    "    sys.path.insert(0, ROOT)\n",
    "\n",
    "from config.config import Config\n",
    "from session.spark_session import SparkSessionManager\n",
    "from dataio.data_io import DataIO\n",
    "from business.logic import BusinessLogic\n"
   ]
  },
  {
   "cell_type": "code",
   "execution_count": 2,
   "id": "a399060b",
   "metadata": {},
   "outputs": [
    {
     "name": "stdout",
     "output_type": "stream",
     "text": [
      "JAVA_HOME: /usr/local/sdkman/candidates/java/current\n",
      "HADOOP_HOME: None\n",
      "TEMP: None\n",
      "TMP: None\n"
     ]
    },
    {
     "name": "stderr",
     "output_type": "stream",
     "text": [
      "WARNING: Using incubator modules: jdk.incubator.vector\n",
      "Using Spark's default log4j profile: org/apache/spark/log4j2-defaults.properties\n",
      "25/09/07 14:30:52 WARN Utils: Your hostname, codespaces-68955f, resolves to a loopback address: 127.0.0.1; using 10.0.11.190 instead (on interface eth0)\n",
      "25/09/07 14:30:52 WARN Utils: Set SPARK_LOCAL_IP if you need to bind to another address\n",
      "Using Spark's default log4j profile: org/apache/spark/log4j2-defaults.properties\n",
      "Setting default log level to \"WARN\".\n",
      "To adjust logging level use sc.setLogLevel(newLevel). For SparkR, use setLogLevel(newLevel).\n",
      "25/09/07 14:30:53 WARN NativeCodeLoader: Unable to load native-hadoop library for your platform... using builtin-java classes where applicable\n",
      "25/09/07 14:30:53 WARN SparkConf: Note that spark.local.dir will be overridden by the value set by the cluster manager (via SPARK_LOCAL_DIRS in standalone/kubernetes and LOCAL_DIRS in YARN).\n",
      "25/09/07 14:30:54 WARN Utils: The configured local directories are not expected to be URIs; however, got suspicious values [C:/spark_tmp]. Please check your configured local directories.\n"
     ]
    }
   ],
   "source": [
    "config = Config()\n",
    "spark = SparkSessionManager(config).get_session()\n",
    "\n",
    "data_io = DataIO(spark, config)\n",
    "logic   = BusinessLogic(spark, config)\n"
   ]
  },
  {
   "cell_type": "code",
   "execution_count": 3,
   "id": "8aa5a54e",
   "metadata": {},
   "outputs": [
    {
     "name": "stderr",
     "output_type": "stream",
     "text": [
      "                                                                                \r"
     ]
    },
    {
     "name": "stdout",
     "output_type": "stream",
     "text": [
      "### Pedidos schema\n",
      "root\n",
      " |-- ID_PEDIDO: string (nullable = true)\n",
      " |-- PRODUTO: string (nullable = true)\n",
      " |-- VALOR_UNITARIO: double (nullable = true)\n",
      " |-- QUANTIDADE: integer (nullable = true)\n",
      " |-- DATA_CRIACAO: timestamp (nullable = true)\n",
      " |-- UF: string (nullable = true)\n",
      " |-- ID_CLIENTE: integer (nullable = true)\n",
      "\n",
      "### Pagamentos schema\n",
      "root\n",
      " |-- avaliacao_fraude: struct (nullable = true)\n",
      " |    |-- fraude: boolean (nullable = true)\n",
      " |    |-- score: double (nullable = true)\n",
      " |-- data_processamento: string (nullable = true)\n",
      " |-- forma_pagamento: string (nullable = true)\n",
      " |-- id_pedido: string (nullable = true)\n",
      " |-- status: boolean (nullable = true)\n",
      " |-- valor_pagamento: double (nullable = true)\n",
      "\n",
      "### Amostra pedidos\n",
      "+------------------------------------+-----------+--------------+----------+-------------------+---+----------+\n",
      "|ID_PEDIDO                           |PRODUTO    |VALOR_UNITARIO|QUANTIDADE|DATA_CRIACAO       |UF |ID_CLIENTE|\n",
      "+------------------------------------+-----------+--------------+----------+-------------------+---+----------+\n",
      "|18e1b253-a0d7-42a5-a82d-4e6514217fb8|GELADEIRA  |2000.0        |1         |2024-06-05 10:14:51|MG |7870      |\n",
      "|53393cc4-a020-4f93-bf0d-b05e4a6d9b5d|LIVRO      |30.0          |5         |2024-06-28 19:43:02|GO |13452     |\n",
      "|dbb332b5-1d4a-4d17-8b92-9142665a3b8d|TV         |2500.0        |1         |2024-06-20 20:01:42|PE |2184      |\n",
      "|0e0e22c3-ee23-434e-a7f6-93d97107dba9|COMPUTADOR |700.0         |1         |2024-06-18 19:46:14|RJ |1507      |\n",
      "|0a7a5b6b-3b59-47a2-bc3e-f3a3634d61e3|CELULAR    |1000.0        |2         |2024-06-02 09:14:56|RS |13858     |\n",
      "|f77ed3f2-08d3-4c69-acbe-39355aecca23|TABLET     |1100.0        |1         |2024-06-09 04:41:59|PR |12373     |\n",
      "|ee86337e-ac77-4a65-926b-167cb0d35d0c|TV         |2500.0        |2         |2024-06-07 18:47:04|RJ |3615      |\n",
      "|40f0083a-812c-4c7e-823b-f35b9a3b2179|LIVRO      |30.0          |1         |2024-06-02 23:27:43|ES |11996     |\n",
      "|76720660-92b5-4342-88a4-3808e07bdd3b|TABLET     |1100.0        |2         |2024-06-22 20:30:50|GO |9610      |\n",
      "|d5a0fd44-baf8-4e58-b4ab-1f59cafea1bf|HOMETHEATER|500.0         |1         |2024-06-23 20:00:13|MA |6621      |\n",
      "+------------------------------------+-----------+--------------+----------+-------------------+---+----------+\n",
      "only showing top 10 rows\n",
      "### Amostra pagamentos\n",
      "+----------------+--------------------------+---------------+------------------------------------+------+---------------+\n",
      "|avaliacao_fraude|data_processamento        |forma_pagamento|id_pedido                           |status|valor_pagamento|\n",
      "+----------------+--------------------------+---------------+------------------------------------+------+---------------+\n",
      "|{false, 0.46}   |2025-03-10T14:05:25.905294|CARTAO_CREDITO |7126ed88-9cf3-40e8-b12f-ec6aa39bb771|true  |700.0          |\n",
      "|{false, 0.22}   |2025-03-13T18:49:43.735071|BOLETO         |da579fb7-8446-4246-9f3c-e655a6389be4|true  |285.0          |\n",
      "|{false, 0.24}   |2025-03-19T19:32:26.307597|CARTAO_CREDITO |e495a333-0360-4c5c-9f0e-2705212ebc2a|true  |600.0          |\n",
      "|{true, 0.97}    |2025-03-21T09:39:05.762888|PIX            |3d984f23-9dfb-47f1-bbfd-f8fc1bc0c841|false |2090.0         |\n",
      "|{true, 0.93}    |2025-03-17T06:37:28.928919|CARTAO_CREDITO |143fa00b-0b40-4b01-b5ff-879a23210e25|false |500.0          |\n",
      "|{false, 0.52}   |2025-03-08T21:29:03.086241|PIX            |4c9f87cb-7dde-4dea-81c7-27b50452b8ac|true  |2375.0         |\n",
      "|{false, 0.18}   |2025-03-19T17:14:07.652014|CARTAO_CREDITO |7bb7e1df-41aa-44d7-bf7e-7658d0c5c7d8|true  |300.0          |\n",
      "|{false, 0.85}   |2025-03-08T12:26:38.487366|CARTAO_CREDITO |d034ddd6-8deb-43f2-bf6e-890166ae39fb|true  |1100.0         |\n",
      "|{false, 0.52}   |2025-03-10T16:19:40.463772|CARTAO_CREDITO |d77c6ec6-2a9b-43eb-ba21-3842fb44327f|true  |2500.0         |\n",
      "|{true, 0.92}    |2025-03-29T07:30:43.645948|PIX            |680f1a90-e015-45f4-a300-b399f2ae5eef|false |85.5           |\n",
      "+----------------+--------------------------+---------------+------------------------------------+------+---------------+\n",
      "only showing top 10 rows\n"
     ]
    }
   ],
   "source": [
    "pedidos_df    = data_io.read_pedidos()\n",
    "pagamentos_df = data_io.read_pagamentos()\n",
    "\n",
    "print(\"### Pedidos schema\"); pedidos_df.printSchema()\n",
    "print(\"### Pagamentos schema\"); pagamentos_df.printSchema()\n",
    "\n",
    "print(\"### Amostra pedidos\"); pedidos_df.show(10, truncate=False)\n",
    "print(\"### Amostra pagamentos\"); pagamentos_df.show(10, truncate=False)\n"
   ]
  },
  {
   "cell_type": "code",
   "execution_count": 5,
   "id": "3e73d4db",
   "metadata": {},
   "outputs": [
    {
     "name": "stdout",
     "output_type": "stream",
     "text": [
      "### Resultado schema\n",
      "root\n",
      " |-- id_pedido: string (nullable = true)\n",
      " |-- estado: string (nullable = true)\n",
      " |-- forma_pagamento: string (nullable = true)\n",
      " |-- valor_total_pedido: double (nullable = true)\n",
      " |-- data_pedido: timestamp (nullable = true)\n",
      "\n",
      "### Resultado (amostra)\n"
     ]
    },
    {
     "name": "stderr",
     "output_type": "stream",
     "text": [
      "                                                                                \r"
     ]
    },
    {
     "name": "stdout",
     "output_type": "stream",
     "text": [
      "+------------------------------------+------+---------------+------------------+-------------------+\n",
      "|id_pedido                           |estado|forma_pagamento|valor_total_pedido|data_pedido        |\n",
      "+------------------------------------+------+---------------+------------------+-------------------+\n",
      "|d8a94cc0-2df6-43ad-af0b-4ff5436a9581|AL    |CARTAO_CREDITO |1000.0            |2025-02-20 12:21:45|\n",
      "|6a917788-20c6-4cfc-b51d-ececa0db13e1|AL    |CARTAO_CREDITO |2500.0            |2025-04-04 10:01:28|\n",
      "|6076af29-68bc-4975-8ff3-89b0f5afa87a|AL    |CARTAO_CREDITO |1100.0            |2025-04-15 18:06:55|\n",
      "|10a85986-e4da-446c-aed5-de1f5163a8ac|AL    |CARTAO_CREDITO |900.0             |2025-04-28 13:40:53|\n",
      "|d0493b71-6626-493a-8f3c-c1dae97e095e|AL    |CARTAO_CREDITO |3000.0            |2025-05-13 20:12:54|\n",
      "|94a47e1e-e26f-4f80-9105-db822612d925|AL    |CARTAO_CREDITO |1100.0            |2025-05-15 17:31:56|\n",
      "|c093bbc9-bd56-43d0-afe2-5d8a52609bc9|AL    |CARTAO_CREDITO |5000.0            |2025-05-15 19:30:39|\n",
      "|64817981-2740-4b34-9ad3-2a5c719e20cb|AL    |PIX            |2500.0            |2025-01-15 19:22:09|\n",
      "|a66c83e0-16b1-49f9-b109-430fadfae281|AL    |PIX            |700.0             |2025-04-17 21:07:23|\n",
      "|d8b73bc3-a529-4741-960d-d5fd00f5771f|AL    |PIX            |700.0             |2025-05-08 18:07:56|\n",
      "|6e9ff5a7-bccd-4545-94f8-0402ec204266|AL    |PIX            |1500.0            |2025-05-27 13:39:12|\n",
      "|b8fd3cf8-4f14-4ebc-b1b6-72ff52bcd2e1|AL    |PIX            |2000.0            |2025-05-28 12:23:52|\n",
      "|792d16ac-2768-4b23-9f24-e2d4de482ad6|BA    |CARTAO_CREDITO |2200.0            |2025-01-04 16:54:03|\n",
      "|d45b44d3-6440-422d-81f2-1711bc08fc6d|BA    |CARTAO_CREDITO |2000.0            |2025-01-11 19:14:38|\n",
      "|57aaace0-1e97-4c67-82ac-679ad33ebb5c|BA    |CARTAO_CREDITO |700.0             |2025-01-13 08:00:03|\n",
      "|2f49d391-b443-4771-9f56-29f509fb4799|BA    |CARTAO_CREDITO |2000.0            |2025-02-06 19:16:50|\n",
      "|ba592196-3d7d-4dea-b676-ef8926dd3fee|BA    |CARTAO_CREDITO |1000.0            |2025-02-08 17:49:25|\n",
      "|8e68cea6-8166-4389-bd91-4ff87cd81c56|BA    |CARTAO_CREDITO |3000.0            |2025-02-10 20:17:13|\n",
      "|c15d0dfa-4d8c-459c-abe2-896dec9a86e6|BA    |CARTAO_CREDITO |500.0             |2025-02-12 13:03:28|\n",
      "|4805301e-231a-4bd8-9b6e-5fcbca0a194d|BA    |CARTAO_CREDITO |500.0             |2025-02-12 17:01:28|\n",
      "+------------------------------------+------+---------------+------------------+-------------------+\n",
      "only showing top 20 rows\n",
      "Qtde linhas do resultado: 540\n"
     ]
    }
   ],
   "source": [
    "resultado_df = logic.process(pedidos_df, pagamentos_df)\n",
    "\n",
    "print(\"### Resultado schema\")\n",
    "resultado_df.printSchema()\n",
    "\n",
    "print(\"### Resultado (amostra)\")\n",
    "resultado_df.show(20, truncate=False)\n",
    "\n",
    "print(\"Qtde linhas do resultado:\", resultado_df.count())\n"
   ]
  },
  {
   "cell_type": "code",
   "execution_count": 6,
   "id": "6217f58a",
   "metadata": {},
   "outputs": [
    {
     "name": "stdout",
     "output_type": "stream",
     "text": [
      "### Arquivos gerados em: /workspaces/projeto_pyspark/output/relatorio_parquet\n",
      "/workspaces/projeto_pyspark/output/relatorio_parquet/\n",
      "/workspaces/projeto_pyspark/output/relatorio_parquet/part-00000-265a7be1-ac60-4ef1-b54e-964ee7f2d239-c000.snappy.parquet\n",
      "/workspaces/projeto_pyspark/output/relatorio_parquet/_SUCCESS\n"
     ]
    },
    {
     "name": "stderr",
     "output_type": "stream",
     "text": [
      "                                                                                \r"
     ]
    }
   ],
   "source": [
    "data_io.write_parquet(resultado_df)\n",
    "\n",
    "print(\"### Arquivos gerados em:\", config.output_path)\n",
    "import glob\n",
    "for p in glob.glob(config.output_path + \"/**\", recursive=True)[:50]:\n",
    "    print(p)\n"
   ]
  },
  {
   "cell_type": "code",
   "execution_count": 7,
   "id": "4d05da35",
   "metadata": {},
   "outputs": [
    {
     "name": "stdout",
     "output_type": "stream",
     "text": [
      "\u001b[1m============================= test session starts ==============================\u001b[0m\n",
      "platform linux -- Python 3.12.1, pytest-8.4.1, pluggy-1.6.0 -- /usr/local/py-utils/venvs/pytest/bin/python\n",
      "cachedir: .pytest_cache\n",
      "rootdir: /workspaces/projeto_pyspark\n",
      "configfile: pyproject.toml\n",
      "plugins: anyio-4.9.0\n",
      "\u001b[1mcollecting ... \u001b[0mcollected 1 item\n",
      "\n",
      "tests/test_logic.py::test_process \u001b[32mPASSED\u001b[0m\u001b[32m                                 [100%]\u001b[0m\n",
      "\n",
      "\u001b[33m=============================== warnings summary ===============================\u001b[0m\n",
      "tests/test_logic.py::test_process\n",
      "  /home/codespace/.local/lib/python3.12/site-packages/jupyter_client/connect.py:22: DeprecationWarning: Jupyter is migrating its paths to use standard platformdirs\n",
      "  given by the platformdirs library.  To remove this warning and\n",
      "  see the appropriate new directories, set the environment variable\n",
      "  `JUPYTER_PLATFORM_DIRS=1` and then run `jupyter --paths`.\n",
      "  The use of platformdirs will be the default in `jupyter_core` v6\n",
      "    from jupyter_core.paths import jupyter_data_dir, jupyter_runtime_dir, secure_write\n",
      "\n",
      "-- Docs: https://docs.pytest.org/en/stable/how-to/capture-warnings.html\n",
      "\u001b[33m======================== \u001b[32m1 passed\u001b[0m, \u001b[33m\u001b[1m1 warning\u001b[0m\u001b[33m in 13.06s\u001b[0m\u001b[33m =========================\u001b[0m\n",
      "CompletedProcess(args=['pytest', '-v'], returncode=0)\n"
     ]
    }
   ],
   "source": [
    "import subprocess, sys, os\n",
    "env = os.environ.copy()\n",
    "env[\"PYTHONPATH\"] = ROOT\n",
    "print(subprocess.run([\"pytest\", \"-v\"], cwd=ROOT, env=env, text=True, capture_output=False))\n"
   ]
  },
  {
   "cell_type": "code",
   "execution_count": 8,
   "id": "0aac368d",
   "metadata": {},
   "outputs": [
    {
     "name": "stdout",
     "output_type": "stream",
     "text": [
      "+------------------------------------+------+---------------+------------------+-------------------+\n",
      "|id_pedido                           |estado|forma_pagamento|valor_total_pedido|data_pedido        |\n",
      "+------------------------------------+------+---------------+------------------+-------------------+\n",
      "|d8a94cc0-2df6-43ad-af0b-4ff5436a9581|AL    |CARTAO_CREDITO |1000.0            |2025-02-20 12:21:45|\n",
      "|6a917788-20c6-4cfc-b51d-ececa0db13e1|AL    |CARTAO_CREDITO |2500.0            |2025-04-04 10:01:28|\n",
      "|6076af29-68bc-4975-8ff3-89b0f5afa87a|AL    |CARTAO_CREDITO |1100.0            |2025-04-15 18:06:55|\n",
      "|10a85986-e4da-446c-aed5-de1f5163a8ac|AL    |CARTAO_CREDITO |900.0             |2025-04-28 13:40:53|\n",
      "|d0493b71-6626-493a-8f3c-c1dae97e095e|AL    |CARTAO_CREDITO |3000.0            |2025-05-13 20:12:54|\n",
      "|94a47e1e-e26f-4f80-9105-db822612d925|AL    |CARTAO_CREDITO |1100.0            |2025-05-15 17:31:56|\n",
      "|c093bbc9-bd56-43d0-afe2-5d8a52609bc9|AL    |CARTAO_CREDITO |5000.0            |2025-05-15 19:30:39|\n",
      "|64817981-2740-4b34-9ad3-2a5c719e20cb|AL    |PIX            |2500.0            |2025-01-15 19:22:09|\n",
      "|a66c83e0-16b1-49f9-b109-430fadfae281|AL    |PIX            |700.0             |2025-04-17 21:07:23|\n",
      "|d8b73bc3-a529-4741-960d-d5fd00f5771f|AL    |PIX            |700.0             |2025-05-08 18:07:56|\n",
      "|6e9ff5a7-bccd-4545-94f8-0402ec204266|AL    |PIX            |1500.0            |2025-05-27 13:39:12|\n",
      "|b8fd3cf8-4f14-4ebc-b1b6-72ff52bcd2e1|AL    |PIX            |2000.0            |2025-05-28 12:23:52|\n",
      "|792d16ac-2768-4b23-9f24-e2d4de482ad6|BA    |CARTAO_CREDITO |2200.0            |2025-01-04 16:54:03|\n",
      "|d45b44d3-6440-422d-81f2-1711bc08fc6d|BA    |CARTAO_CREDITO |2000.0            |2025-01-11 19:14:38|\n",
      "|57aaace0-1e97-4c67-82ac-679ad33ebb5c|BA    |CARTAO_CREDITO |700.0             |2025-01-13 08:00:03|\n",
      "|2f49d391-b443-4771-9f56-29f509fb4799|BA    |CARTAO_CREDITO |2000.0            |2025-02-06 19:16:50|\n",
      "|ba592196-3d7d-4dea-b676-ef8926dd3fee|BA    |CARTAO_CREDITO |1000.0            |2025-02-08 17:49:25|\n",
      "|8e68cea6-8166-4389-bd91-4ff87cd81c56|BA    |CARTAO_CREDITO |3000.0            |2025-02-10 20:17:13|\n",
      "|c15d0dfa-4d8c-459c-abe2-896dec9a86e6|BA    |CARTAO_CREDITO |500.0             |2025-02-12 13:03:28|\n",
      "|4805301e-231a-4bd8-9b6e-5fcbca0a194d|BA    |CARTAO_CREDITO |500.0             |2025-02-12 17:01:28|\n",
      "|a14437f9-9cee-4aec-8b5c-ec103e5a54f8|BA    |CARTAO_CREDITO |2000.0            |2025-03-13 18:49:55|\n",
      "|07733788-98ce-4ed2-accf-9ba2fc42cd4c|BA    |CARTAO_CREDITO |700.0             |2025-03-21 17:27:07|\n",
      "|db82dd69-9c43-4d2a-acb7-4274e2739e79|BA    |CARTAO_CREDITO |2000.0            |2025-04-13 09:52:54|\n",
      "|61e38b83-97c8-4587-b616-727ffc557d85|BA    |CARTAO_CREDITO |700.0             |2025-04-13 18:25:23|\n",
      "|da644bad-2bd4-4493-8151-cd1e90f4c664|BA    |CARTAO_CREDITO |150.0             |2025-04-17 17:59:12|\n",
      "|f020ed2a-5e8b-4c27-98d6-3da98f3e3c85|BA    |CARTAO_CREDITO |150.0             |2025-04-17 18:04:33|\n",
      "|ac81ac23-f87a-4ef4-bb2c-f34cf8d2f99c|BA    |CARTAO_CREDITO |700.0             |2025-05-04 14:37:17|\n",
      "|bf998915-7ad3-44a0-8a65-8dcc57b9bffd|BA    |CARTAO_CREDITO |1500.0            |2025-05-10 22:23:23|\n",
      "|d0c8b21b-b8fe-479f-b3f0-f95b13ec70cf|BA    |CARTAO_CREDITO |600.0             |2025-05-13 20:42:26|\n",
      "|7f49d965-7eee-4a11-ad2b-35110941f780|BA    |CARTAO_CREDITO |500.0             |2025-06-08 18:18:11|\n",
      "|75717885-7f70-4f44-92a6-e8f964a1002a|BA    |CARTAO_CREDITO |500.0             |2025-06-23 19:24:09|\n",
      "|b15124fe-c28f-4c17-9bfb-7a7fd281923b|BA    |PIX            |600.0             |2025-01-24 13:13:17|\n",
      "|cc8355ce-83f6-42c9-a779-418e55d9f70c|BA    |PIX            |900.0             |2025-03-07 19:51:23|\n",
      "|951e9872-2a32-47d7-bf35-6bab32840e3e|BA    |PIX            |3000.0            |2025-03-26 20:58:11|\n",
      "|2372c444-6662-43d3-9ce4-bcbeb3564d2c|BA    |PIX            |900.0             |2025-04-24 21:48:25|\n",
      "|ce122d01-c59c-4dad-9b9a-f1f84e3370a9|BA    |PIX            |700.0             |2025-05-01 17:38:38|\n",
      "|e9e9689b-ceb0-4a03-b2d4-f7f70b861e23|BA    |PIX            |600.0             |2025-05-19 13:45:57|\n",
      "|03cca111-f293-4221-bed5-83809ffa03b5|BA    |PIX            |3000.0            |2025-05-26 13:17:38|\n",
      "|c7999417-4728-4ce4-bf2f-7e9f22ce46cb|BA    |PIX            |2500.0            |2025-06-08 20:25:22|\n",
      "|58ba0e74-c6d6-4beb-8a03-d32741db4628|BA    |PIX            |2000.0            |2025-06-11 18:28:28|\n",
      "|6eca650b-591e-47e7-a48c-caff1d8126d7|CE    |CARTAO_CREDITO |5000.0            |2025-01-23 12:18:43|\n",
      "|76b128e0-3406-44b4-9c73-e9dc488414eb|CE    |CARTAO_CREDITO |300.0             |2025-02-05 12:43:07|\n",
      "|cdd1e47c-d24b-4953-a1ff-b20f278fdf02|CE    |CARTAO_CREDITO |3000.0            |2025-02-13 11:14:55|\n",
      "|01fafd29-bf9c-4588-90da-7a9b68e19e79|CE    |CARTAO_CREDITO |3000.0            |2025-02-13 12:32:43|\n",
      "|cfcf38c7-e2de-43b8-bf33-3ea1d4a0fe46|CE    |CARTAO_CREDITO |1500.0            |2025-02-17 10:56:33|\n",
      "|4a7bda17-0cc9-4b0e-9315-e0bd8c7b58b5|CE    |CARTAO_CREDITO |3000.0            |2025-02-24 12:26:44|\n",
      "|896a7772-bb5c-4d09-a830-ab6f6cf0e8eb|CE    |CARTAO_CREDITO |500.0             |2025-02-25 13:15:58|\n",
      "|0fda4ed1-91a1-45af-bb1a-02911d8d473c|CE    |CARTAO_CREDITO |1100.0            |2025-03-10 20:48:26|\n",
      "|1ce437a6-0456-464d-9918-623775437f6f|CE    |CARTAO_CREDITO |90.0              |2025-04-10 13:39:58|\n",
      "|3dade022-40cf-4b66-8934-747071fe5006|CE    |CARTAO_CREDITO |3000.0            |2025-05-19 18:42:08|\n",
      "|c9dfd7c3-e6e7-4b62-b047-b003a0d92a21|CE    |CARTAO_CREDITO |500.0             |2025-06-13 11:28:27|\n",
      "|df8faffb-ad57-473f-b580-065e02ee9e4b|CE    |CARTAO_CREDITO |2000.0            |2025-06-14 21:35:13|\n",
      "|ba562a5b-51e9-4957-8ad2-46040db8d525|CE    |PIX            |2000.0            |2025-02-09 11:37:18|\n",
      "|26053f53-d8b8-44df-b0ec-fa5b2791fac2|CE    |PIX            |2000.0            |2025-05-25 20:11:22|\n",
      "|cd758850-5557-4f1e-aa57-f365e908a018|CE    |PIX            |1100.0            |2025-06-04 13:56:31|\n",
      "|7f535f0f-463f-49b7-b181-efde1f6adb12|CE    |PIX            |500.0             |2025-06-10 20:02:27|\n",
      "|e08b8766-de05-48d5-aa16-6138756d8a97|CE    |PIX            |150.0             |2025-06-24 13:29:43|\n",
      "|194e2fe3-bc86-430b-908d-6140a735c30a|DF    |CARTAO_CREDITO |700.0             |2025-02-13 11:35:35|\n",
      "|ae9aa518-73b8-4eaa-995d-765c72cf6705|DF    |CARTAO_CREDITO |2200.0            |2025-02-20 20:27:20|\n",
      "|c4e03b5c-c2ea-4d36-bdc2-c02b3b38dc57|DF    |CARTAO_CREDITO |30.0              |2025-02-25 13:32:58|\n",
      "|84ba8fcf-413e-4a92-ac03-1b6b209ce6ed|DF    |CARTAO_CREDITO |1000.0            |2025-03-04 18:21:53|\n",
      "|2216f936-a9c5-4bd4-a1b2-5965afaf0a4f|DF    |CARTAO_CREDITO |300.0             |2025-03-09 13:31:01|\n",
      "|c81d89af-51fe-40c1-8a7c-02bf5f474b28|DF    |CARTAO_CREDITO |2000.0            |2025-03-21 13:09:13|\n",
      "|6f2d0081-6817-4be6-9684-2522b04fa5f6|DF    |CARTAO_CREDITO |3000.0            |2025-04-03 20:03:23|\n",
      "|d18886eb-25bd-4f06-bcfa-8b1be36fa1ce|DF    |CARTAO_CREDITO |3000.0            |2025-04-09 19:20:59|\n",
      "|d4bc2e24-4fa3-4181-813d-8fe7372b2e71|DF    |CARTAO_CREDITO |3000.0            |2025-04-10 09:48:41|\n",
      "|2742268b-84ba-49c7-81f5-b4f6783ae7b8|DF    |CARTAO_CREDITO |700.0             |2025-04-10 19:35:56|\n",
      "|706bd8c1-1db9-4d7f-bab6-808f6f860917|DF    |CARTAO_CREDITO |5000.0            |2025-05-25 20:00:21|\n",
      "|3a33e45b-a4b7-45a5-8c4d-b26b84f78da1|DF    |CARTAO_CREDITO |2000.0            |2025-06-01 19:49:10|\n",
      "|95caff1e-897a-4f8d-924c-6dbe5ccf6525|DF    |CARTAO_CREDITO |600.0             |2025-06-03 23:29:35|\n",
      "|a5c84da0-8d68-4f23-bc45-b9c9169b715c|DF    |CARTAO_CREDITO |600.0             |2025-06-07 11:54:59|\n",
      "|f08c1d2c-92d9-4ade-a988-4c57b715954f|DF    |CARTAO_CREDITO |500.0             |2025-06-10 13:39:11|\n",
      "|8212e9c2-d85c-4bcb-91b5-16c0edf8db64|DF    |PIX            |300.0             |2025-01-24 13:12:43|\n",
      "|ace0f7ac-5d2d-45c1-950b-8f9f384a48be|DF    |PIX            |2200.0            |2025-02-21 18:16:18|\n",
      "|cb3563e3-02b2-48e3-91f4-4b67064fbaf5|DF    |PIX            |30.0              |2025-03-01 17:37:39|\n",
      "|86f413e3-5700-42c1-b00a-cd5ce8231d93|DF    |PIX            |3000.0            |2025-03-19 20:03:52|\n",
      "|d69cda48-4e6b-4815-acce-8342126065d6|DF    |PIX            |900.0             |2025-04-19 19:45:50|\n",
      "|1879716d-b402-4efd-bd6c-cf958145b760|DF    |PIX            |150.0             |2025-04-27 11:44:35|\n",
      "|d7298143-5452-4335-826b-d4e6705a2eea|DF    |PIX            |30.0              |2025-05-22 20:26:28|\n",
      "|535be195-e72b-4961-aeb8-ffcffb056240|DF    |PIX            |500.0             |2025-06-18 02:52:51|\n",
      "|9013b2ae-f72c-447e-9aee-82fae30aecf5|ES    |BOLETO         |900.0             |2025-01-20 19:25:17|\n",
      "|3bde0261-bb1c-48e7-af4f-6fd74e029904|ES    |BOLETO         |900.0             |2025-02-14 06:54:57|\n",
      "|52928715-3662-469e-9bf9-558fe4676324|ES    |BOLETO         |2500.0            |2025-03-14 19:27:31|\n",
      "|0d4aa471-805d-4b76-b3d7-c84c4376349f|ES    |BOLETO         |1100.0            |2025-04-03 13:14:25|\n",
      "|a264d5ec-f639-4bfc-acea-014d5abee6bf|ES    |BOLETO         |300.0             |2025-04-27 10:23:39|\n",
      "|2fe35281-a1a2-407d-933d-d3d16f1edd19|ES    |BOLETO         |3000.0            |2025-05-01 22:34:26|\n",
      "|eac2527b-53b7-4b0c-ab53-ea74fc05e7fa|ES    |CARTAO_CREDITO |700.0             |2025-01-04 20:05:01|\n",
      "|5d7f8b14-a7c4-48ce-b221-eb7f2f0bcaa3|ES    |CARTAO_CREDITO |2500.0            |2025-01-14 19:05:10|\n",
      "|0d7e6d3c-7a5d-4538-8438-fa87cdd00e49|ES    |CARTAO_CREDITO |150.0             |2025-01-16 19:39:56|\n",
      "|9d901949-7055-45e1-887e-c483fd7a247f|ES    |CARTAO_CREDITO |2200.0            |2025-01-17 20:11:23|\n",
      "|a1df701b-17df-46c0-9533-025787318cb5|ES    |CARTAO_CREDITO |5000.0            |2025-01-18 07:46:45|\n",
      "|88a678cf-8485-4cd8-9d34-779af7256133|ES    |CARTAO_CREDITO |3000.0            |2025-01-19 12:52:06|\n",
      "|dabbd130-85dd-4f00-ac4e-05b3c4e01723|ES    |CARTAO_CREDITO |600.0             |2025-01-22 20:02:17|\n",
      "|6d33be0e-de66-4130-9a87-aeb1de26c689|ES    |CARTAO_CREDITO |500.0             |2025-02-06 22:43:16|\n",
      "|1b19013b-6eef-4f49-b4b9-2dae9c8e3b94|ES    |CARTAO_CREDITO |1100.0            |2025-02-07 17:54:08|\n",
      "|c3c7b9c2-bf6a-4724-bb8c-4cec714ce91f|ES    |CARTAO_CREDITO |2500.0            |2025-02-11 20:12:18|\n",
      "|8cb6c054-3be9-4cfa-98be-070bea2aa839|ES    |CARTAO_CREDITO |3000.0            |2025-02-12 20:03:24|\n",
      "|b4c39aa3-937b-45a2-9b2d-1e6954a30ca7|ES    |CARTAO_CREDITO |1500.0            |2025-02-18 10:55:23|\n",
      "|01c0de37-b5a5-425c-b1a9-60b216243af6|ES    |CARTAO_CREDITO |1000.0            |2025-02-19 19:47:37|\n",
      "|0141615d-9fa0-4e30-aead-0a8b3bb44551|ES    |CARTAO_CREDITO |150.0             |2025-02-24 13:59:11|\n",
      "+------------------------------------+------+---------------+------------------+-------------------+\n",
      "only showing top 100 rows\n"
     ]
    }
   ],
   "source": [
    "resultado_df.orderBy(\"estado\",\"forma_pagamento\",\"data_pedido\").show(100, truncate=False)\n"
   ]
  },
  {
   "cell_type": "markdown",
   "id": "7f859a73",
   "metadata": {},
   "source": []
  }
 ],
 "metadata": {
  "kernelspec": {
   "display_name": "Python 3",
   "language": "python",
   "name": "python3"
  },
  "language_info": {
   "codemirror_mode": {
    "name": "ipython",
    "version": 3
   },
   "file_extension": ".py",
   "mimetype": "text/x-python",
   "name": "python",
   "nbconvert_exporter": "python",
   "pygments_lexer": "ipython3",
   "version": "3.12.1"
  }
 },
 "nbformat": 4,
 "nbformat_minor": 5
}
